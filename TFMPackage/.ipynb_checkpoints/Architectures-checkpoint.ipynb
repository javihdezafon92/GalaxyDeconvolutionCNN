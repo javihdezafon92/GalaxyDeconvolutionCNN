{
 "cells": [
  {
   "cell_type": "code",
   "execution_count": null,
   "id": "a8e33c99",
   "metadata": {},
   "outputs": [],
   "source": [
    "def compressor_decompressor_model_2branches(input_shape):\n",
    "    \"\"\"\n",
    "    Arguments:\n",
    "    input_img -- input dataset, of shape (input_shape)\n",
    "\n",
    "    Returns:\n",
    "    symetric_autoencoder -- TF Keras model (object containing the information for the entire training process) \n",
    "    \"\"\"\n",
    "\n",
    "    # Input\n",
    "    input_img = layers.Input(shape=input_shape)\n",
    "    \n",
    "    # -----------------------------------------Upper branch (x)----------------------------------------------------\n",
    "    # Compressor\n",
    "    x = layers.Conv2D(32, (4, 4), strides=(1, 1), padding=\"same\")(input_img)\n",
    "    x = layers.ReLU()(x)\n",
    "    x1 = layers.MaxPooling2D((2, 2), padding=\"same\")(x)\n",
    "    x = layers.Conv2D(16, (4, 4), activation=\"relu\", padding=\"same\")(x1) # OJO! tienes dos RELU seguidas.\n",
    "    x = layers.ReLU()(x) # ¿No debería ir X1 a la salida de la RELU? Check it.\n",
    "    x = layers.MaxPooling2D((2, 2), padding=\"same\")(x)\n",
    "\n",
    "    # Decompressor\n",
    "    x = layers.Conv2DTranspose(32, (4, 4), strides=2, activation=\"relu\", padding=\"same\")(x)\n",
    "    x = Add()([x1, x])\n",
    "    output_up = layers.Conv2DTranspose(1, (4, 4), strides=2, activation=\"tanh\", padding=\"same\")(x)\n",
    "    \n",
    "    # -----------------------------------------Lower branch (y)----------------------------------------------------    \n",
    "    # Compressor\n",
    "    y = layers.Conv2D(32, (4, 4), strides=(1, 1), padding=\"same\")(input_img)\n",
    "    y = layers.ReLU()(y)\n",
    "    y1 = layers.MaxPooling2D((2, 2), padding=\"same\")(y)\n",
    "    y = layers.Conv2D(16, (4, 4), activation=\"relu\", padding=\"same\")(y1)\n",
    "    y = layers.ReLU()(y)\n",
    "    y2 = layers.MaxPooling2D((2, 2), padding=\"same\")(y)\n",
    "    y = layers.Conv2D(8, (4, 4), activation=\"relu\", padding=\"same\")(y2)\n",
    "    y = layers.ReLU()(y)\n",
    "    y = layers.MaxPooling2D((2, 2), padding=\"same\")(y)\n",
    "\n",
    "    # Decompressor\n",
    "    y = layers.Conv2DTranspose(16, (4, 4), strides=2, activation=\"relu\", padding=\"same\")(y)\n",
    "    y = Add()([y2, y])\n",
    "    y = layers.Conv2DTranspose(32, (4, 4), strides=2, activation=\"relu\", padding=\"same\")(y)\n",
    "    y = Add()([y1, y])\n",
    "    output_low = layers.Conv2DTranspose(1, (4, 4), strides=2, activation=\"tanh\", padding=\"same\")(y)\n",
    "    \n",
    "    # ---------------------------------------- End of Branches----------------------------------------------------\n",
    "    \n",
    "    output = Add()([output_up, output_low])\n",
    "\n",
    "    # Symetric autoencoder\n",
    "    symetric_autoencoder = Model(input_img, output)\n",
    "    \n",
    "    return symetric_autoencoder"
   ]
  }
 ],
 "metadata": {
  "kernelspec": {
   "display_name": "Python 3",
   "language": "python",
   "name": "python3"
  },
  "language_info": {
   "codemirror_mode": {
    "name": "ipython",
    "version": 3
   },
   "file_extension": ".py",
   "mimetype": "text/x-python",
   "name": "python",
   "nbconvert_exporter": "python",
   "pygments_lexer": "ipython3",
   "version": "3.8.8"
  }
 },
 "nbformat": 4,
 "nbformat_minor": 5
}
